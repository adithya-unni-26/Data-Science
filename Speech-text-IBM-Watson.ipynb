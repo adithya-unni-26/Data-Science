{
 "cells": [
  {
   "cell_type": "code",
   "execution_count": 1,
   "id": "b5584f2b",
   "metadata": {},
   "outputs": [
    {
     "name": "stdout",
     "output_type": "stream",
     "text": [
      "Defaulting to user installation because normal site-packages is not writeable\n",
      "Collecting ibm_watson\n",
      "  Downloading ibm-watson-5.2.2.tar.gz (407 kB)\n",
      "\u001b[K     |████████████████████████████████| 407 kB 805 kB/s eta 0:00:01\n",
      "\u001b[?25h  Installing build dependencies ... \u001b[?25ldone\n",
      "\u001b[?25h  Getting requirements to build wheel ... \u001b[?25ldone\n",
      "\u001b[?25h    Preparing wheel metadata ... \u001b[?25ldone\n",
      "\u001b[?25hCollecting wget\n",
      "  Downloading wget-3.2.zip (10 kB)\n",
      "Collecting ibm-cloud-sdk-core==3.*,>=3.3.6\n",
      "  Downloading ibm-cloud-sdk-core-3.10.1.tar.gz (40 kB)\n",
      "\u001b[K     |████████████████████████████████| 40 kB 95 kB/s  eta 0:00:01\n",
      "\u001b[?25hRequirement already satisfied: requests<3.0,>=2.0 in /usr/lib/python3/dist-packages (from ibm_watson) (2.22.0)\n",
      "Collecting websocket-client==1.1.0\n",
      "  Downloading websocket_client-1.1.0-py2.py3-none-any.whl (68 kB)\n",
      "\u001b[K     |████████████████████████████████| 68 kB 559 kB/s eta 0:00:01\n",
      "\u001b[?25hRequirement already satisfied: python-dateutil>=2.5.3 in /usr/lib/python3/dist-packages (from ibm_watson) (2.7.3)\n",
      "Collecting PyJWT<3.0.0,>=2.0.1\n",
      "  Downloading PyJWT-2.1.0-py3-none-any.whl (16 kB)\n",
      "Building wheels for collected packages: ibm-watson, ibm-cloud-sdk-core, wget\n",
      "  Building wheel for ibm-watson (PEP 517) ... \u001b[?25ldone\n",
      "\u001b[?25h  Created wheel for ibm-watson: filename=ibm_watson-5.2.2-py3-none-any.whl size=403389 sha256=061ae70b9e29ae0b0b24332cb6d1ec6c99e16a2200ced610227a831500193c1f\n",
      "  Stored in directory: /home/adi/.cache/pip/wheels/65/68/42/5f3c4d4d244aa2e6c139fc93bfc2d6c4d7a231b4d5472fda08\n",
      "  Building wheel for ibm-cloud-sdk-core (setup.py) ... \u001b[?25ldone\n",
      "\u001b[?25h  Created wheel for ibm-cloud-sdk-core: filename=ibm_cloud_sdk_core-3.10.1-py3-none-any.whl size=61764 sha256=3ee9fbc1255a6ad682e45d759e3e358a03585e136f509eced2854862ac0fa0e2\n",
      "  Stored in directory: /home/adi/.cache/pip/wheels/44/3f/51/721dd4902c33b62d33b4884e70ac05ca4ec7c3dd42902224c9\n",
      "  Building wheel for wget (setup.py) ... \u001b[?25ldone\n",
      "\u001b[?25h  Created wheel for wget: filename=wget-3.2-py3-none-any.whl size=9681 sha256=93e2420fa1e4f87cfd88c50f93ef90016b8197f13d2496ade76404977938694b\n",
      "  Stored in directory: /home/adi/.cache/pip/wheels/bd/a8/c3/3cf2c14a1837a4e04bd98631724e81f33f462d86a1d895fae0\n",
      "Successfully built ibm-watson ibm-cloud-sdk-core wget\n",
      "Installing collected packages: PyJWT, websocket-client, ibm-cloud-sdk-core, wget, ibm-watson\n",
      "Successfully installed PyJWT-2.1.0 ibm-cloud-sdk-core-3.10.1 ibm-watson-5.2.2 websocket-client-1.1.0 wget-3.2\n",
      "\u001b[33mWARNING: You are using pip version 21.1.3; however, version 21.2.2 is available.\n",
      "You should consider upgrading via the '/usr/bin/python3 -m pip install --upgrade pip' command.\u001b[0m\n"
     ]
    }
   ],
   "source": [
    "!pip install ibm_watson wget"
   ]
  },
  {
   "cell_type": "code",
   "execution_count": 2,
   "id": "4c69e97a",
   "metadata": {},
   "outputs": [],
   "source": [
    "from ibm_watson import SpeechToTextV1 \n",
    "import json\n",
    "from ibm_cloud_sdk_core.authenticators import IAMAuthenticator"
   ]
  },
  {
   "cell_type": "code",
   "execution_count": 4,
   "id": "932b3bcc",
   "metadata": {},
   "outputs": [],
   "source": [
    "url_s2t=\"https://api.us-south.speech-to-text.watson.cloud.ibm.com/instances/de041520-237f-4d65-94a6-d6634b0c25fc\"\n",
    "api_key_s2t=\"PkyrLx8yi95pmzgiBsZoFZiZ0fYl2v-tbdH4TuwnGYGN\"\n"
   ]
  },
  {
   "cell_type": "code",
   "execution_count": 10,
   "id": "5fde535a",
   "metadata": {},
   "outputs": [
    {
     "data": {
      "text/plain": [
       "<ibm_watson.speech_to_text_v1_adapter.SpeechToTextV1Adapter at 0x7f613edb2670>"
      ]
     },
     "execution_count": 10,
     "metadata": {},
     "output_type": "execute_result"
    }
   ],
   "source": [
    "authenticator=IAMAuthenticator(api_key_s2t)\n",
    "s2t=SpeechToTextV1(authenticator)\n",
    "s2t.set_service_url(url_s2t)\n"
   ]
  },
  {
   "cell_type": "code",
   "execution_count": 11,
   "id": "3c46b0f4",
   "metadata": {},
   "outputs": [
    {
     "name": "stdout",
     "output_type": "stream",
     "text": [
      "--2021-08-02 13:06:23--  https://cf-courses-data.s3.us.cloud-object-storage.appdomain.cloud/IBMDeveloperSkillsNetwork-PY0101EN-SkillsNetwork/labs/Module%205/data/PolynomialRegressionandPipelines.mp3\n",
      "Resolving cf-courses-data.s3.us.cloud-object-storage.appdomain.cloud (cf-courses-data.s3.us.cloud-object-storage.appdomain.cloud)... 169.45.118.108\n",
      "Connecting to cf-courses-data.s3.us.cloud-object-storage.appdomain.cloud (cf-courses-data.s3.us.cloud-object-storage.appdomain.cloud)|169.45.118.108|:443... connected.\n",
      "HTTP request sent, awaiting response... 200 OK\n",
      "Length: 4234179 (4.0M) [audio/mpeg]\n",
      "Saving to: ‘PolynomialRegressionandPipelines.mp3’\n",
      "\n",
      "PolynomialRegressio 100%[===================>]   4.04M   583KB/s    in 11s     \n",
      "\n",
      "2021-08-02 13:06:37 (381 KB/s) - ‘PolynomialRegressionandPipelines.mp3’ saved [4234179/4234179]\n",
      "\n"
     ]
    }
   ],
   "source": [
    "!wget -O PolynomialRegressionandPipelines.mp3  https://cf-courses-data.s3.us.cloud-object-storage.appdomain.cloud/IBMDeveloperSkillsNetwork-PY0101EN-SkillsNetwork/labs/Module%205/data/PolynomialRegressionandPipelines.mp3\n",
    "\n"
   ]
  },
  {
   "cell_type": "code",
   "execution_count": 12,
   "id": "8a2ff2c4",
   "metadata": {},
   "outputs": [],
   "source": [
    "filename='PolynomialRegressionandPipelines.mp3'"
   ]
  },
  {
   "cell_type": "code",
   "execution_count": 15,
   "id": "21d2d167",
   "metadata": {},
   "outputs": [],
   "source": [
    "with open(filename, mode='rb') as wav:\n",
    "    response=s2t.recognize(wav,content_type='audio/mp3')"
   ]
  },
  {
   "cell_type": "code",
   "execution_count": 18,
   "id": "b6f822d8",
   "metadata": {},
   "outputs": [
    {
     "data": {
      "text/plain": [
       "{'result_index': 0,\n",
       " 'results': [{'final': True,\n",
       "   'alternatives': [{'transcript': 'in this video we will cover polynomial regression and pipelines ',\n",
       "     'confidence': 0.94}]},\n",
       "  {'final': True,\n",
       "   'alternatives': [{'transcript': \"what do we do when a linear model is not the best fit for our data let's look into another type of regression model the polynomial regression we transform our data into a polynomial then use linear regression to fit the parameters that we will discuss pipelines pipelines are way to simplify your code \",\n",
       "     'confidence': 0.9}]},\n",
       "  {'final': True,\n",
       "   'alternatives': [{'transcript': \"polynomial regression is a special case of the general linear regression this method is beneficial for describing curvilinear relationships what is a curvilinear relationship it's what you get by squaring or setting higher order terms of the predictor variables in the model transforming the data the model can be quadratic which means the predictor variable in the model is squared we use a bracket to indicated as an exponent this is the second order polynomial regression with a figure representing the function \",\n",
       "     'confidence': 0.95}]},\n",
       "  {'final': True,\n",
       "   'alternatives': [{'transcript': 'the model can be cubic which means the predictor variable is cute this is the third order polynomial regression we see by examining the figure that the function has more variation ',\n",
       "     'confidence': 0.95}]},\n",
       "  {'final': True,\n",
       "   'alternatives': [{'transcript': \"there also exists higher order polynomial regressions when a good fit hasn't been achieved by second or third order we can see in figures how much the graphs change when we change the order of the polynomial regression the degree of the regression makes a big difference and can result in a better fit if you pick the right value in all cases the relationship between the variable in the parameter is always linear \",\n",
       "     'confidence': 0.91}]},\n",
       "  {'final': True,\n",
       "   'alternatives': [{'transcript': \"let's look at an example from our data we generate a polynomial regression model \",\n",
       "     'confidence': 0.89}]},\n",
       "  {'final': True,\n",
       "   'alternatives': [{'transcript': 'in python we do this by using the poly fit function in this example we develop a third order polynomial regression model base we can print out the model symbolic form for the model is given by the following expression ',\n",
       "     'confidence': 0.92}]},\n",
       "  {'final': True,\n",
       "   'alternatives': [{'transcript': \"negative one point five five seven X. one cute plus two hundred four point eight X. one squared plus eight thousand nine hundred sixty five X. one plus one point three seven times ten to the power of five we can also have multi dimensional polynomial linear regression the expression can get complicated here are just some of the terms for two dimensional second order polynomial none pies poly fit function cannot perform this type of regression we use the preprocessing librarian scikit learn to create a polynomial feature object the constructor takes the degree of the polynomial as a parameter then we transform the features into a polynomial feature with the fit underscore transform method let's do a more intuitive example \",\n",
       "     'confidence': 0.9}]},\n",
       "  {'final': True,\n",
       "   'alternatives': [{'transcript': 'consider the feature shown here applying the method we transform the data we now have a new set of features that are transformed version of our original features as that I mention of the data gets larger we may want to normalize multiple features as scikit learn instead we can use the preprocessing module to simplify many tasks for example we can standardize each feature simultaneously we import standard scaler we train the object fit the scale object then transform the data into a new data frame on a rate X. underscore scale there are more normalization methods available in the pre processing library as well as other transformations we can simplify our code by using a pipeline library there are many steps to getting a prediction for example normalization polynomial transform and linear regression we simplify the process using a pipeline ',\n",
       "     'confidence': 0.9}]},\n",
       "  {'final': True,\n",
       "   'alternatives': [{'transcript': 'pipeline sequentially perform a series of transformations the last step carries out a prediction first we import all the modules we need then we import the library pipeline we create a list of topples the first element in the topple contains the name of the estimator model the second element contains model constructor we input the list in the pipeline constructor we now have a pipeline object we can train the pipeline by applying the train method to the pipeline object we can also produce a prediction as well ',\n",
       "     'confidence': 0.89}]},\n",
       "  {'final': True,\n",
       "   'alternatives': [{'transcript': 'the method normalizes the data performs a polynomial transform then outputs a prediction ',\n",
       "     'confidence': 0.88}]}]}"
      ]
     },
     "execution_count": 18,
     "metadata": {},
     "output_type": "execute_result"
    }
   ],
   "source": [
    "response.result"
   ]
  },
  {
   "cell_type": "code",
   "execution_count": 19,
   "id": "fe8ca558",
   "metadata": {},
   "outputs": [],
   "source": [
    "from pandas import json_normalize"
   ]
  },
  {
   "cell_type": "code",
   "execution_count": 21,
   "id": "1eaa73af",
   "metadata": {},
   "outputs": [
    {
     "data": {
      "text/html": [
       "<div>\n",
       "<style scoped>\n",
       "    .dataframe tbody tr th:only-of-type {\n",
       "        vertical-align: middle;\n",
       "    }\n",
       "\n",
       "    .dataframe tbody tr th {\n",
       "        vertical-align: top;\n",
       "    }\n",
       "\n",
       "    .dataframe thead th {\n",
       "        text-align: right;\n",
       "    }\n",
       "</style>\n",
       "<table border=\"1\" class=\"dataframe\">\n",
       "  <thead>\n",
       "    <tr style=\"text-align: right;\">\n",
       "      <th></th>\n",
       "      <th>transcript</th>\n",
       "      <th>confidence</th>\n",
       "    </tr>\n",
       "  </thead>\n",
       "  <tbody>\n",
       "    <tr>\n",
       "      <th>0</th>\n",
       "      <td>in this video we will cover polynomial regress...</td>\n",
       "      <td>0.94</td>\n",
       "    </tr>\n",
       "    <tr>\n",
       "      <th>1</th>\n",
       "      <td>what do we do when a linear model is not the b...</td>\n",
       "      <td>0.90</td>\n",
       "    </tr>\n",
       "    <tr>\n",
       "      <th>2</th>\n",
       "      <td>polynomial regression is a special case of the...</td>\n",
       "      <td>0.95</td>\n",
       "    </tr>\n",
       "    <tr>\n",
       "      <th>3</th>\n",
       "      <td>the model can be cubic which means the predict...</td>\n",
       "      <td>0.95</td>\n",
       "    </tr>\n",
       "    <tr>\n",
       "      <th>4</th>\n",
       "      <td>there also exists higher order polynomial regr...</td>\n",
       "      <td>0.91</td>\n",
       "    </tr>\n",
       "    <tr>\n",
       "      <th>5</th>\n",
       "      <td>let's look at an example from our data we gene...</td>\n",
       "      <td>0.89</td>\n",
       "    </tr>\n",
       "    <tr>\n",
       "      <th>6</th>\n",
       "      <td>in python we do this by using the poly fit fun...</td>\n",
       "      <td>0.92</td>\n",
       "    </tr>\n",
       "    <tr>\n",
       "      <th>7</th>\n",
       "      <td>negative one point five five seven X. one cute...</td>\n",
       "      <td>0.90</td>\n",
       "    </tr>\n",
       "    <tr>\n",
       "      <th>8</th>\n",
       "      <td>consider the feature shown here applying the m...</td>\n",
       "      <td>0.90</td>\n",
       "    </tr>\n",
       "    <tr>\n",
       "      <th>9</th>\n",
       "      <td>pipeline sequentially perform a series of tran...</td>\n",
       "      <td>0.89</td>\n",
       "    </tr>\n",
       "    <tr>\n",
       "      <th>10</th>\n",
       "      <td>the method normalizes the data performs a poly...</td>\n",
       "      <td>0.88</td>\n",
       "    </tr>\n",
       "  </tbody>\n",
       "</table>\n",
       "</div>"
      ],
      "text/plain": [
       "                                           transcript  confidence\n",
       "0   in this video we will cover polynomial regress...        0.94\n",
       "1   what do we do when a linear model is not the b...        0.90\n",
       "2   polynomial regression is a special case of the...        0.95\n",
       "3   the model can be cubic which means the predict...        0.95\n",
       "4   there also exists higher order polynomial regr...        0.91\n",
       "5   let's look at an example from our data we gene...        0.89\n",
       "6   in python we do this by using the poly fit fun...        0.92\n",
       "7   negative one point five five seven X. one cute...        0.90\n",
       "8   consider the feature shown here applying the m...        0.90\n",
       "9   pipeline sequentially perform a series of tran...        0.89\n",
       "10  the method normalizes the data performs a poly...        0.88"
      ]
     },
     "execution_count": 21,
     "metadata": {},
     "output_type": "execute_result"
    }
   ],
   "source": [
    "json_normalize(response.result['results'],\"alternatives\")"
   ]
  },
  {
   "cell_type": "code",
   "execution_count": 34,
   "id": "233b0d31",
   "metadata": {},
   "outputs": [],
   "source": [
    "text=response.result['results'][0]['alternatives'][0]['transcript']"
   ]
  },
  {
   "cell_type": "markdown",
   "id": "87560904",
   "metadata": {},
   "source": [
    "# Language Converter"
   ]
  },
  {
   "cell_type": "code",
   "execution_count": 35,
   "id": "2f9f9b31",
   "metadata": {},
   "outputs": [],
   "source": [
    "from ibm_watson import LanguageTranslatorV3"
   ]
  },
  {
   "cell_type": "code",
   "execution_count": 36,
   "id": "1f804501",
   "metadata": {},
   "outputs": [],
   "source": [
    "url_lt='https://api.us-south.language-translator.watson.cloud.ibm.com/instances/db4acf81-f6d0-49a8-aa8d-4f861ce1fd3c'"
   ]
  },
  {
   "cell_type": "code",
   "execution_count": 37,
   "id": "6c975f53",
   "metadata": {},
   "outputs": [],
   "source": [
    "api_lt=\"mZkDyoAPRRm8H2t8iWV13_imcFdESVdK3w0MocwCBRGZ\""
   ]
  },
  {
   "cell_type": "code",
   "execution_count": 45,
   "id": "60020d65",
   "metadata": {},
   "outputs": [],
   "source": [
    "version_lt='2018-05-01'"
   ]
  },
  {
   "cell_type": "code",
   "execution_count": 49,
   "id": "3d211da7",
   "metadata": {},
   "outputs": [],
   "source": [
    "authenticator=IAMAuthenticator(api_lt)\n",
    "translator=LanguageTranslatorV3(authenticator=authenticator,version=version_lt)\n",
    "translator.set_service_url('https://api.us-south.language-translator.watson.cloud.ibm.com/instances/db4acf81-f6d0-49a8-aa8d-4f861ce1fd3c')"
   ]
  },
  {
   "cell_type": "code",
   "execution_count": 57,
   "id": "79ea3fcf",
   "metadata": {},
   "outputs": [],
   "source": [
    "df=json_normalize(translator.list_identifiable_languages().get_result(),'languages')"
   ]
  },
  {
   "cell_type": "code",
   "execution_count": 58,
   "id": "445340f8",
   "metadata": {},
   "outputs": [
    {
     "data": {
      "text/html": [
       "<div>\n",
       "<style scoped>\n",
       "    .dataframe tbody tr th:only-of-type {\n",
       "        vertical-align: middle;\n",
       "    }\n",
       "\n",
       "    .dataframe tbody tr th {\n",
       "        vertical-align: top;\n",
       "    }\n",
       "\n",
       "    .dataframe thead th {\n",
       "        text-align: right;\n",
       "    }\n",
       "</style>\n",
       "<table border=\"1\" class=\"dataframe\">\n",
       "  <thead>\n",
       "    <tr style=\"text-align: right;\">\n",
       "      <th></th>\n",
       "      <th>language</th>\n",
       "      <th>name</th>\n",
       "    </tr>\n",
       "  </thead>\n",
       "  <tbody>\n",
       "    <tr>\n",
       "      <th>66</th>\n",
       "      <td>ta</td>\n",
       "      <td>Tamil</td>\n",
       "    </tr>\n",
       "  </tbody>\n",
       "</table>\n",
       "</div>"
      ],
      "text/plain": [
       "   language   name\n",
       "66       ta  Tamil"
      ]
     },
     "execution_count": 58,
     "metadata": {},
     "output_type": "execute_result"
    }
   ],
   "source": [
    "df.loc[df['name']=='Tamil']"
   ]
  },
  {
   "cell_type": "code",
   "execution_count": 59,
   "id": "d108a16f",
   "metadata": {},
   "outputs": [],
   "source": [
    "translation=translator.translate(text,model_id='en-ta')"
   ]
  },
  {
   "cell_type": "code",
   "execution_count": 67,
   "id": "7c57fca1",
   "metadata": {},
   "outputs": [],
   "source": [
    "tamil_translation=translation.result['translations'][0]['translation']"
   ]
  },
  {
   "cell_type": "code",
   "execution_count": 68,
   "id": "4b23d497",
   "metadata": {},
   "outputs": [
    {
     "data": {
      "text/plain": [
       "'இந்த வீடியோவில் நாம் போலியோமியியல் ரீதியான மற்றும் பைபிளீன்களை மறைக்கும். '"
      ]
     },
     "execution_count": 68,
     "metadata": {},
     "output_type": "execute_result"
    }
   ],
   "source": [
    "tamil_translation"
   ]
  },
  {
   "cell_type": "code",
   "execution_count": null,
   "id": "d6607ab8",
   "metadata": {},
   "outputs": [],
   "source": []
  }
 ],
 "metadata": {
  "kernelspec": {
   "display_name": "Python 3 (ipykernel)",
   "language": "python",
   "name": "python3"
  },
  "language_info": {
   "codemirror_mode": {
    "name": "ipython",
    "version": 3
   },
   "file_extension": ".py",
   "mimetype": "text/x-python",
   "name": "python",
   "nbconvert_exporter": "python",
   "pygments_lexer": "ipython3",
   "version": "3.8.10"
  }
 },
 "nbformat": 4,
 "nbformat_minor": 5
}
