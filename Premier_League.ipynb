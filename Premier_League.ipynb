{
 "cells": [
  {
   "cell_type": "code",
   "execution_count": 2,
   "id": "bb72f110",
   "metadata": {},
   "outputs": [],
   "source": [
    "import pandas as pd"
   ]
  },
  {
   "cell_type": "code",
   "execution_count": 3,
   "id": "d6b31824",
   "metadata": {},
   "outputs": [],
   "source": [
    "url='https://fbref.com/en/comps/9/stats/Premier-League-Stats'"
   ]
  },
  {
   "cell_type": "code",
   "execution_count": 4,
   "id": "deaa443a",
   "metadata": {},
   "outputs": [],
   "source": [
    "df=pd.read_csv('football_data.csv',header=0)"
   ]
  },
  {
   "cell_type": "code",
   "execution_count": 5,
   "id": "9337d6ca",
   "metadata": {},
   "outputs": [],
   "source": [
    "df.columns=df.iloc[0,:] #resetting the headers using the first row"
   ]
  },
  {
   "cell_type": "code",
   "execution_count": 6,
   "id": "51b5579c",
   "metadata": {},
   "outputs": [],
   "source": [
    "df=df.iloc[:,0:18] #obtaining the useful data "
   ]
  },
  {
   "cell_type": "code",
   "execution_count": 7,
   "id": "ae100ece",
   "metadata": {},
   "outputs": [],
   "source": [
    "columns=pd.DataFrame(df.columns,index=None)\n",
    "expansions=['Rank','Player Name','Nationality','Position','Team Name', 'Age at the begining of the season','Year of Birth','Matches Played','Number of starts fot the team','Minutes PLayed','minutes played/90','Number of Goals', 'Number of assists','Non Penalty Goals','Penalty Kick Goals','Penalty Kicks Attempted','Yellow Cards','Red Cards']\n",
    "columns['Description']=expansions\n",
    "#the header names and acronyms are created using a seperate dataframe\n"
   ]
  },
  {
   "cell_type": "code",
   "execution_count": 8,
   "id": "5712f4f1",
   "metadata": {},
   "outputs": [],
   "source": [
    "columns=columns.rename(columns={0:'Acronyms'}) #column name is renamed"
   ]
  },
  {
   "cell_type": "code",
   "execution_count": 9,
   "id": "6f0f3ddc",
   "metadata": {},
   "outputs": [],
   "source": [
    "df=df.fillna(0)# replace all missing data with 0s"
   ]
  },
  {
   "cell_type": "code",
   "execution_count": 10,
   "id": "20328e5a",
   "metadata": {},
   "outputs": [],
   "source": [
    "df=df.drop(['Rk'],axis=1) #dropping the  rank "
   ]
  },
  {
   "cell_type": "code",
   "execution_count": 11,
   "id": "eba8a568",
   "metadata": {},
   "outputs": [],
   "source": [
    "df.to_csv('EPL20.csv',index=False) "
   ]
  },
  {
   "cell_type": "code",
   "execution_count": 12,
   "id": "bfbaf3d0",
   "metadata": {},
   "outputs": [],
   "source": [
    "df=pd.read_csv('EPL20.csv')"
   ]
  },
  {
   "cell_type": "code",
   "execution_count": 13,
   "id": "0b953ce9",
   "metadata": {},
   "outputs": [
    {
     "data": {
      "text/html": [
       "<div>\n",
       "<style scoped>\n",
       "    .dataframe tbody tr th:only-of-type {\n",
       "        vertical-align: middle;\n",
       "    }\n",
       "\n",
       "    .dataframe tbody tr th {\n",
       "        vertical-align: top;\n",
       "    }\n",
       "\n",
       "    .dataframe thead th {\n",
       "        text-align: right;\n",
       "    }\n",
       "</style>\n",
       "<table border=\"1\" class=\"dataframe\">\n",
       "  <thead>\n",
       "    <tr style=\"text-align: right;\">\n",
       "      <th></th>\n",
       "      <th>Acronyms</th>\n",
       "      <th>Description</th>\n",
       "    </tr>\n",
       "  </thead>\n",
       "  <tbody>\n",
       "    <tr>\n",
       "      <th>0</th>\n",
       "      <td>Rk</td>\n",
       "      <td>Rank</td>\n",
       "    </tr>\n",
       "    <tr>\n",
       "      <th>1</th>\n",
       "      <td>Player</td>\n",
       "      <td>Player Name</td>\n",
       "    </tr>\n",
       "    <tr>\n",
       "      <th>2</th>\n",
       "      <td>Nation</td>\n",
       "      <td>Nationality</td>\n",
       "    </tr>\n",
       "    <tr>\n",
       "      <th>3</th>\n",
       "      <td>Pos</td>\n",
       "      <td>Position</td>\n",
       "    </tr>\n",
       "    <tr>\n",
       "      <th>4</th>\n",
       "      <td>Squad</td>\n",
       "      <td>Team Name</td>\n",
       "    </tr>\n",
       "    <tr>\n",
       "      <th>5</th>\n",
       "      <td>Age</td>\n",
       "      <td>Age at the begining of the season</td>\n",
       "    </tr>\n",
       "    <tr>\n",
       "      <th>6</th>\n",
       "      <td>Born</td>\n",
       "      <td>Year of Birth</td>\n",
       "    </tr>\n",
       "    <tr>\n",
       "      <th>7</th>\n",
       "      <td>MP</td>\n",
       "      <td>Matches Played</td>\n",
       "    </tr>\n",
       "    <tr>\n",
       "      <th>8</th>\n",
       "      <td>Starts</td>\n",
       "      <td>Number of starts fot the team</td>\n",
       "    </tr>\n",
       "    <tr>\n",
       "      <th>9</th>\n",
       "      <td>Min</td>\n",
       "      <td>Minutes PLayed</td>\n",
       "    </tr>\n",
       "    <tr>\n",
       "      <th>10</th>\n",
       "      <td>90s</td>\n",
       "      <td>minutes played/90</td>\n",
       "    </tr>\n",
       "    <tr>\n",
       "      <th>11</th>\n",
       "      <td>Gls</td>\n",
       "      <td>Number of Goals</td>\n",
       "    </tr>\n",
       "    <tr>\n",
       "      <th>12</th>\n",
       "      <td>Ast</td>\n",
       "      <td>Number of assists</td>\n",
       "    </tr>\n",
       "    <tr>\n",
       "      <th>13</th>\n",
       "      <td>G-PK</td>\n",
       "      <td>Non Penalty Goals</td>\n",
       "    </tr>\n",
       "    <tr>\n",
       "      <th>14</th>\n",
       "      <td>PK</td>\n",
       "      <td>Penalty Kick Goals</td>\n",
       "    </tr>\n",
       "    <tr>\n",
       "      <th>15</th>\n",
       "      <td>PKatt</td>\n",
       "      <td>Penalty Kicks Attempted</td>\n",
       "    </tr>\n",
       "    <tr>\n",
       "      <th>16</th>\n",
       "      <td>CrdY</td>\n",
       "      <td>Yellow Cards</td>\n",
       "    </tr>\n",
       "    <tr>\n",
       "      <th>17</th>\n",
       "      <td>CrdR</td>\n",
       "      <td>Red Cards</td>\n",
       "    </tr>\n",
       "  </tbody>\n",
       "</table>\n",
       "</div>"
      ],
      "text/plain": [
       "   Acronyms                        Description\n",
       "0        Rk                               Rank\n",
       "1    Player                        Player Name\n",
       "2    Nation                        Nationality\n",
       "3       Pos                           Position\n",
       "4     Squad                          Team Name\n",
       "5       Age  Age at the begining of the season\n",
       "6      Born                      Year of Birth\n",
       "7        MP                     Matches Played\n",
       "8    Starts      Number of starts fot the team\n",
       "9       Min                     Minutes PLayed\n",
       "10      90s                  minutes played/90\n",
       "11      Gls                    Number of Goals\n",
       "12      Ast                  Number of assists\n",
       "13     G-PK                  Non Penalty Goals\n",
       "14       PK                 Penalty Kick Goals\n",
       "15    PKatt            Penalty Kicks Attempted\n",
       "16     CrdY                       Yellow Cards\n",
       "17     CrdR                          Red Cards"
      ]
     },
     "execution_count": 13,
     "metadata": {},
     "output_type": "execute_result"
    }
   ],
   "source": [
    "columns"
   ]
  },
  {
   "cell_type": "code",
   "execution_count": 14,
   "id": "b8ba1e61",
   "metadata": {},
   "outputs": [],
   "source": [
    "df = df.tail(df.shape[0] -1) #removing the first row using the tail function"
   ]
  },
  {
   "cell_type": "code",
   "execution_count": 15,
   "id": "e57117e6",
   "metadata": {},
   "outputs": [
    {
     "data": {
      "text/html": [
       "<div>\n",
       "<style scoped>\n",
       "    .dataframe tbody tr th:only-of-type {\n",
       "        vertical-align: middle;\n",
       "    }\n",
       "\n",
       "    .dataframe tbody tr th {\n",
       "        vertical-align: top;\n",
       "    }\n",
       "\n",
       "    .dataframe thead th {\n",
       "        text-align: right;\n",
       "    }\n",
       "</style>\n",
       "<table border=\"1\" class=\"dataframe\">\n",
       "  <thead>\n",
       "    <tr style=\"text-align: right;\">\n",
       "      <th></th>\n",
       "      <th>MP</th>\n",
       "      <th>Starts</th>\n",
       "      <th>Min</th>\n",
       "      <th>90s</th>\n",
       "      <th>Gls</th>\n",
       "      <th>Ast</th>\n",
       "      <th>G-PK</th>\n",
       "      <th>PK</th>\n",
       "      <th>PKatt</th>\n",
       "      <th>CrdY</th>\n",
       "      <th>CrdR</th>\n",
       "    </tr>\n",
       "  </thead>\n",
       "  <tbody>\n",
       "    <tr>\n",
       "      <th>count</th>\n",
       "      <td>532</td>\n",
       "      <td>532</td>\n",
       "      <td>532</td>\n",
       "      <td>532</td>\n",
       "      <td>532</td>\n",
       "      <td>532</td>\n",
       "      <td>532</td>\n",
       "      <td>532</td>\n",
       "      <td>532</td>\n",
       "      <td>532</td>\n",
       "      <td>532</td>\n",
       "    </tr>\n",
       "    <tr>\n",
       "      <th>unique</th>\n",
       "      <td>38</td>\n",
       "      <td>39</td>\n",
       "      <td>458</td>\n",
       "      <td>267</td>\n",
       "      <td>21</td>\n",
       "      <td>13</td>\n",
       "      <td>17</td>\n",
       "      <td>9</td>\n",
       "      <td>8</td>\n",
       "      <td>13</td>\n",
       "      <td>3</td>\n",
       "    </tr>\n",
       "    <tr>\n",
       "      <th>top</th>\n",
       "      <td>1</td>\n",
       "      <td>0</td>\n",
       "      <td>90</td>\n",
       "      <td>0.1</td>\n",
       "      <td>0</td>\n",
       "      <td>0</td>\n",
       "      <td>0</td>\n",
       "      <td>0</td>\n",
       "      <td>0</td>\n",
       "      <td>0</td>\n",
       "      <td>0</td>\n",
       "    </tr>\n",
       "    <tr>\n",
       "      <th>freq</th>\n",
       "      <td>41</td>\n",
       "      <td>55</td>\n",
       "      <td>10</td>\n",
       "      <td>14</td>\n",
       "      <td>261</td>\n",
       "      <td>284</td>\n",
       "      <td>267</td>\n",
       "      <td>489</td>\n",
       "      <td>483</td>\n",
       "      <td>174</td>\n",
       "      <td>485</td>\n",
       "    </tr>\n",
       "  </tbody>\n",
       "</table>\n",
       "</div>"
      ],
      "text/plain": [
       "         MP Starts  Min  90s  Gls  Ast G-PK   PK PKatt CrdY CrdR\n",
       "count   532    532  532  532  532  532  532  532   532  532  532\n",
       "unique   38     39  458  267   21   13   17    9     8   13    3\n",
       "top       1      0   90  0.1    0    0    0    0     0    0    0\n",
       "freq     41     55   10   14  261  284  267  489   483  174  485"
      ]
     },
     "execution_count": 15,
     "metadata": {},
     "output_type": "execute_result"
    }
   ],
   "source": [
    "df.iloc[:,6:].describe() #getting a description of the data "
   ]
  },
  {
   "cell_type": "code",
   "execution_count": 16,
   "id": "1d366dfd",
   "metadata": {},
   "outputs": [],
   "source": [
    "df=df.astype({'MP':'int64','Starts':'int64','Min':'int64','90s':'float64','Gls':'int64','Ast':'int64','G-PK':'int64','PK':'int64','PKatt':'int64','CrdY':'int64','CrdR':'int64'})\n"
   ]
  },
  {
   "cell_type": "code",
   "execution_count": 17,
   "id": "ed80f312",
   "metadata": {},
   "outputs": [
    {
     "data": {
      "text/html": [
       "<div>\n",
       "<style scoped>\n",
       "    .dataframe tbody tr th:only-of-type {\n",
       "        vertical-align: middle;\n",
       "    }\n",
       "\n",
       "    .dataframe tbody tr th {\n",
       "        vertical-align: top;\n",
       "    }\n",
       "\n",
       "    .dataframe thead th {\n",
       "        text-align: right;\n",
       "    }\n",
       "</style>\n",
       "<table border=\"1\" class=\"dataframe\">\n",
       "  <thead>\n",
       "    <tr style=\"text-align: right;\">\n",
       "      <th></th>\n",
       "      <th>Player</th>\n",
       "      <th>Nation</th>\n",
       "      <th>Pos</th>\n",
       "      <th>Squad</th>\n",
       "      <th>Age</th>\n",
       "      <th>Born</th>\n",
       "      <th>MP</th>\n",
       "      <th>Starts</th>\n",
       "      <th>Min</th>\n",
       "      <th>90s</th>\n",
       "      <th>Gls</th>\n",
       "      <th>Ast</th>\n",
       "      <th>G-PK</th>\n",
       "      <th>PK</th>\n",
       "      <th>PKatt</th>\n",
       "      <th>CrdY</th>\n",
       "      <th>CrdR</th>\n",
       "    </tr>\n",
       "  </thead>\n",
       "  <tbody>\n",
       "    <tr>\n",
       "      <th>236</th>\n",
       "      <td>Harry Kane\\Harry-Kane</td>\n",
       "      <td>eng ENG</td>\n",
       "      <td>FW</td>\n",
       "      <td>Tottenham</td>\n",
       "      <td>27</td>\n",
       "      <td>1993</td>\n",
       "      <td>35</td>\n",
       "      <td>35</td>\n",
       "      <td>3082</td>\n",
       "      <td>34.2</td>\n",
       "      <td>23</td>\n",
       "      <td>14</td>\n",
       "      <td>19</td>\n",
       "      <td>4</td>\n",
       "      <td>4</td>\n",
       "      <td>1</td>\n",
       "      <td>0</td>\n",
       "    </tr>\n",
       "  </tbody>\n",
       "</table>\n",
       "</div>"
      ],
      "text/plain": [
       "                    Player   Nation Pos      Squad Age  Born  MP  Starts  \\\n",
       "236  Harry Kane\\Harry-Kane  eng ENG  FW  Tottenham  27  1993  35      35   \n",
       "\n",
       "      Min   90s  Gls  Ast  G-PK  PK  PKatt  CrdY  CrdR  \n",
       "236  3082  34.2   23   14    19   4      4     1     0  "
      ]
     },
     "execution_count": 17,
     "metadata": {},
     "output_type": "execute_result"
    }
   ],
   "source": [
    "df.loc[df.Gls==df.Gls.max()]# the player who scored the maximum goals"
   ]
  },
  {
   "cell_type": "code",
   "execution_count": 18,
   "id": "630515fe",
   "metadata": {},
   "outputs": [
    {
     "data": {
      "text/html": [
       "<div>\n",
       "<style scoped>\n",
       "    .dataframe tbody tr th:only-of-type {\n",
       "        vertical-align: middle;\n",
       "    }\n",
       "\n",
       "    .dataframe tbody tr th {\n",
       "        vertical-align: top;\n",
       "    }\n",
       "\n",
       "    .dataframe thead th {\n",
       "        text-align: right;\n",
       "    }\n",
       "</style>\n",
       "<table border=\"1\" class=\"dataframe\">\n",
       "  <thead>\n",
       "    <tr style=\"text-align: right;\">\n",
       "      <th></th>\n",
       "      <th>Player</th>\n",
       "      <th>Nation</th>\n",
       "      <th>Pos</th>\n",
       "      <th>Squad</th>\n",
       "      <th>Age</th>\n",
       "      <th>Born</th>\n",
       "      <th>MP</th>\n",
       "      <th>Starts</th>\n",
       "      <th>Min</th>\n",
       "      <th>90s</th>\n",
       "      <th>Gls</th>\n",
       "      <th>Ast</th>\n",
       "      <th>G-PK</th>\n",
       "      <th>PK</th>\n",
       "      <th>PKatt</th>\n",
       "      <th>CrdY</th>\n",
       "      <th>CrdR</th>\n",
       "    </tr>\n",
       "  </thead>\n",
       "  <tbody>\n",
       "    <tr>\n",
       "      <th>236</th>\n",
       "      <td>Harry Kane\\Harry-Kane</td>\n",
       "      <td>eng ENG</td>\n",
       "      <td>FW</td>\n",
       "      <td>Tottenham</td>\n",
       "      <td>27</td>\n",
       "      <td>1993</td>\n",
       "      <td>35</td>\n",
       "      <td>35</td>\n",
       "      <td>3082</td>\n",
       "      <td>34.2</td>\n",
       "      <td>23</td>\n",
       "      <td>14</td>\n",
       "      <td>19</td>\n",
       "      <td>4</td>\n",
       "      <td>4</td>\n",
       "      <td>1</td>\n",
       "      <td>0</td>\n",
       "    </tr>\n",
       "  </tbody>\n",
       "</table>\n",
       "</div>"
      ],
      "text/plain": [
       "                    Player   Nation Pos      Squad Age  Born  MP  Starts  \\\n",
       "236  Harry Kane\\Harry-Kane  eng ENG  FW  Tottenham  27  1993  35      35   \n",
       "\n",
       "      Min   90s  Gls  Ast  G-PK  PK  PKatt  CrdY  CrdR  \n",
       "236  3082  34.2   23   14    19   4      4     1     0  "
      ]
     },
     "execution_count": 18,
     "metadata": {},
     "output_type": "execute_result"
    }
   ],
   "source": [
    "df.loc[df.Ast==df.Ast.max()] #player with max assists"
   ]
  },
  {
   "cell_type": "code",
   "execution_count": 19,
   "id": "faadf117",
   "metadata": {},
   "outputs": [
    {
     "data": {
      "text/html": [
       "<div>\n",
       "<style scoped>\n",
       "    .dataframe tbody tr th:only-of-type {\n",
       "        vertical-align: middle;\n",
       "    }\n",
       "\n",
       "    .dataframe tbody tr th {\n",
       "        vertical-align: top;\n",
       "    }\n",
       "\n",
       "    .dataframe thead th {\n",
       "        text-align: right;\n",
       "    }\n",
       "</style>\n",
       "<table border=\"1\" class=\"dataframe\">\n",
       "  <thead>\n",
       "    <tr style=\"text-align: right;\">\n",
       "      <th></th>\n",
       "      <th>Player</th>\n",
       "      <th>Nation</th>\n",
       "      <th>Pos</th>\n",
       "      <th>Squad</th>\n",
       "      <th>Age</th>\n",
       "      <th>Born</th>\n",
       "      <th>MP</th>\n",
       "      <th>Starts</th>\n",
       "      <th>Min</th>\n",
       "      <th>90s</th>\n",
       "      <th>Gls</th>\n",
       "      <th>Ast</th>\n",
       "      <th>G-PK</th>\n",
       "      <th>PK</th>\n",
       "      <th>PKatt</th>\n",
       "      <th>CrdY</th>\n",
       "      <th>CrdR</th>\n",
       "    </tr>\n",
       "  </thead>\n",
       "  <tbody>\n",
       "    <tr>\n",
       "      <th>152</th>\n",
       "      <td>Bruno Fernandes\\Bruno-Fernandes</td>\n",
       "      <td>pt POR</td>\n",
       "      <td>MF</td>\n",
       "      <td>Manchester Utd</td>\n",
       "      <td>25</td>\n",
       "      <td>1994</td>\n",
       "      <td>37</td>\n",
       "      <td>35</td>\n",
       "      <td>3099</td>\n",
       "      <td>34.4</td>\n",
       "      <td>18</td>\n",
       "      <td>12</td>\n",
       "      <td>9</td>\n",
       "      <td>9</td>\n",
       "      <td>10</td>\n",
       "      <td>6</td>\n",
       "      <td>0</td>\n",
       "    </tr>\n",
       "  </tbody>\n",
       "</table>\n",
       "</div>"
      ],
      "text/plain": [
       "                              Player  Nation Pos           Squad Age  Born  \\\n",
       "152  Bruno Fernandes\\Bruno-Fernandes  pt POR  MF  Manchester Utd  25  1994   \n",
       "\n",
       "     MP  Starts   Min   90s  Gls  Ast  G-PK  PK  PKatt  CrdY  CrdR  \n",
       "152  37      35  3099  34.4   18   12     9   9     10     6     0  "
      ]
     },
     "execution_count": 19,
     "metadata": {},
     "output_type": "execute_result"
    }
   ],
   "source": [
    "df.loc[df.PK==df.PK.max()] #player with max penalties,scored 9/10 penalties"
   ]
  },
  {
   "cell_type": "code",
   "execution_count": null,
   "id": "ae3e4356",
   "metadata": {},
   "outputs": [],
   "source": []
  },
  {
   "cell_type": "code",
   "execution_count": 22,
   "id": "2d61d42a",
   "metadata": {},
   "outputs": [],
   "source": [
    "df.Nation=df.Nation.str[3:]"
   ]
  },
  {
   "cell_type": "code",
   "execution_count": 24,
   "id": "0f611192",
   "metadata": {},
   "outputs": [
    {
     "data": {
      "text/html": [
       "<div>\n",
       "<style scoped>\n",
       "    .dataframe tbody tr th:only-of-type {\n",
       "        vertical-align: middle;\n",
       "    }\n",
       "\n",
       "    .dataframe tbody tr th {\n",
       "        vertical-align: top;\n",
       "    }\n",
       "\n",
       "    .dataframe thead th {\n",
       "        text-align: right;\n",
       "    }\n",
       "</style>\n",
       "<table border=\"1\" class=\"dataframe\">\n",
       "  <thead>\n",
       "    <tr style=\"text-align: right;\">\n",
       "      <th></th>\n",
       "      <th>Player</th>\n",
       "      <th>Nation</th>\n",
       "      <th>Pos</th>\n",
       "      <th>Squad</th>\n",
       "      <th>Age</th>\n",
       "      <th>Born</th>\n",
       "      <th>MP</th>\n",
       "      <th>Starts</th>\n",
       "      <th>Min</th>\n",
       "      <th>90s</th>\n",
       "      <th>Gls</th>\n",
       "      <th>Ast</th>\n",
       "      <th>G-PK</th>\n",
       "      <th>PK</th>\n",
       "      <th>PKatt</th>\n",
       "      <th>CrdY</th>\n",
       "      <th>CrdR</th>\n",
       "    </tr>\n",
       "  </thead>\n",
       "  <tbody>\n",
       "    <tr>\n",
       "      <th>1</th>\n",
       "      <td>Patrick van Aanholt\\Patrick-van-Aanholt</td>\n",
       "      <td>NED</td>\n",
       "      <td>DF</td>\n",
       "      <td>Crystal Palace</td>\n",
       "      <td>29</td>\n",
       "      <td>1990</td>\n",
       "      <td>22</td>\n",
       "      <td>20</td>\n",
       "      <td>1777</td>\n",
       "      <td>19.7</td>\n",
       "      <td>0</td>\n",
       "      <td>1</td>\n",
       "      <td>0</td>\n",
       "      <td>0</td>\n",
       "      <td>0</td>\n",
       "      <td>2</td>\n",
       "      <td>0</td>\n",
       "    </tr>\n",
       "    <tr>\n",
       "      <th>2</th>\n",
       "      <td>Tammy Abraham\\Tammy-Abraham</td>\n",
       "      <td>ENG</td>\n",
       "      <td>FW</td>\n",
       "      <td>Chelsea</td>\n",
       "      <td>22</td>\n",
       "      <td>1997</td>\n",
       "      <td>22</td>\n",
       "      <td>12</td>\n",
       "      <td>1040</td>\n",
       "      <td>11.6</td>\n",
       "      <td>6</td>\n",
       "      <td>1</td>\n",
       "      <td>6</td>\n",
       "      <td>0</td>\n",
       "      <td>0</td>\n",
       "      <td>0</td>\n",
       "      <td>0</td>\n",
       "    </tr>\n",
       "    <tr>\n",
       "      <th>3</th>\n",
       "      <td>Che Adams\\Che-Adams</td>\n",
       "      <td>SCO</td>\n",
       "      <td>FW</td>\n",
       "      <td>Southampton</td>\n",
       "      <td>24</td>\n",
       "      <td>1996</td>\n",
       "      <td>36</td>\n",
       "      <td>30</td>\n",
       "      <td>2667</td>\n",
       "      <td>29.6</td>\n",
       "      <td>9</td>\n",
       "      <td>5</td>\n",
       "      <td>9</td>\n",
       "      <td>0</td>\n",
       "      <td>0</td>\n",
       "      <td>1</td>\n",
       "      <td>0</td>\n",
       "    </tr>\n",
       "    <tr>\n",
       "      <th>4</th>\n",
       "      <td>Tosin Adarabioyo\\Tosin-Adarabioyo</td>\n",
       "      <td>ENG</td>\n",
       "      <td>DF</td>\n",
       "      <td>Fulham</td>\n",
       "      <td>22</td>\n",
       "      <td>1997</td>\n",
       "      <td>33</td>\n",
       "      <td>33</td>\n",
       "      <td>2953</td>\n",
       "      <td>32.8</td>\n",
       "      <td>0</td>\n",
       "      <td>0</td>\n",
       "      <td>0</td>\n",
       "      <td>0</td>\n",
       "      <td>0</td>\n",
       "      <td>1</td>\n",
       "      <td>0</td>\n",
       "    </tr>\n",
       "    <tr>\n",
       "      <th>5</th>\n",
       "      <td>Adrián\\Adrian</td>\n",
       "      <td>ESP</td>\n",
       "      <td>GK</td>\n",
       "      <td>Liverpool</td>\n",
       "      <td>33</td>\n",
       "      <td>1987</td>\n",
       "      <td>3</td>\n",
       "      <td>3</td>\n",
       "      <td>270</td>\n",
       "      <td>3.0</td>\n",
       "      <td>0</td>\n",
       "      <td>0</td>\n",
       "      <td>0</td>\n",
       "      <td>0</td>\n",
       "      <td>0</td>\n",
       "      <td>0</td>\n",
       "      <td>0</td>\n",
       "    </tr>\n",
       "    <tr>\n",
       "      <th>...</th>\n",
       "      <td>...</td>\n",
       "      <td>...</td>\n",
       "      <td>...</td>\n",
       "      <td>...</td>\n",
       "      <td>...</td>\n",
       "      <td>...</td>\n",
       "      <td>...</td>\n",
       "      <td>...</td>\n",
       "      <td>...</td>\n",
       "      <td>...</td>\n",
       "      <td>...</td>\n",
       "      <td>...</td>\n",
       "      <td>...</td>\n",
       "      <td>...</td>\n",
       "      <td>...</td>\n",
       "      <td>...</td>\n",
       "      <td>...</td>\n",
       "    </tr>\n",
       "    <tr>\n",
       "      <th>528</th>\n",
       "      <td>Andi Zeqiri\\Andi-Zeqiri</td>\n",
       "      <td>SUI</td>\n",
       "      <td>FWDF</td>\n",
       "      <td>Brighton</td>\n",
       "      <td>21</td>\n",
       "      <td>1999</td>\n",
       "      <td>9</td>\n",
       "      <td>0</td>\n",
       "      <td>171</td>\n",
       "      <td>1.9</td>\n",
       "      <td>0</td>\n",
       "      <td>0</td>\n",
       "      <td>0</td>\n",
       "      <td>0</td>\n",
       "      <td>0</td>\n",
       "      <td>0</td>\n",
       "      <td>0</td>\n",
       "    </tr>\n",
       "    <tr>\n",
       "      <th>529</th>\n",
       "      <td>Oleksandr Zinchenko\\Oleksandr-Zinchenko</td>\n",
       "      <td>UKR</td>\n",
       "      <td>DF</td>\n",
       "      <td>Manchester City</td>\n",
       "      <td>23</td>\n",
       "      <td>1996</td>\n",
       "      <td>20</td>\n",
       "      <td>15</td>\n",
       "      <td>1478</td>\n",
       "      <td>16.4</td>\n",
       "      <td>0</td>\n",
       "      <td>0</td>\n",
       "      <td>0</td>\n",
       "      <td>0</td>\n",
       "      <td>0</td>\n",
       "      <td>0</td>\n",
       "      <td>0</td>\n",
       "    </tr>\n",
       "    <tr>\n",
       "      <th>530</th>\n",
       "      <td>Hakim Ziyech\\Hakim-Ziyech</td>\n",
       "      <td>MAR</td>\n",
       "      <td>FWMF</td>\n",
       "      <td>Chelsea</td>\n",
       "      <td>27</td>\n",
       "      <td>1993</td>\n",
       "      <td>23</td>\n",
       "      <td>15</td>\n",
       "      <td>1172</td>\n",
       "      <td>13.0</td>\n",
       "      <td>2</td>\n",
       "      <td>3</td>\n",
       "      <td>2</td>\n",
       "      <td>0</td>\n",
       "      <td>0</td>\n",
       "      <td>3</td>\n",
       "      <td>0</td>\n",
       "    </tr>\n",
       "    <tr>\n",
       "      <th>531</th>\n",
       "      <td>Kurt Zouma\\Kurt-Zouma</td>\n",
       "      <td>FRA</td>\n",
       "      <td>DF</td>\n",
       "      <td>Chelsea</td>\n",
       "      <td>25</td>\n",
       "      <td>1994</td>\n",
       "      <td>24</td>\n",
       "      <td>22</td>\n",
       "      <td>2029</td>\n",
       "      <td>22.5</td>\n",
       "      <td>5</td>\n",
       "      <td>0</td>\n",
       "      <td>5</td>\n",
       "      <td>0</td>\n",
       "      <td>0</td>\n",
       "      <td>3</td>\n",
       "      <td>0</td>\n",
       "    </tr>\n",
       "    <tr>\n",
       "      <th>532</th>\n",
       "      <td>Martin Ødegaard\\Martin-Odegaard</td>\n",
       "      <td>NOR</td>\n",
       "      <td>MF</td>\n",
       "      <td>Arsenal</td>\n",
       "      <td>21</td>\n",
       "      <td>1998</td>\n",
       "      <td>14</td>\n",
       "      <td>9</td>\n",
       "      <td>866</td>\n",
       "      <td>9.6</td>\n",
       "      <td>1</td>\n",
       "      <td>2</td>\n",
       "      <td>1</td>\n",
       "      <td>0</td>\n",
       "      <td>0</td>\n",
       "      <td>0</td>\n",
       "      <td>0</td>\n",
       "    </tr>\n",
       "  </tbody>\n",
       "</table>\n",
       "<p>532 rows × 17 columns</p>\n",
       "</div>"
      ],
      "text/plain": [
       "                                      Player Nation   Pos            Squad  \\\n",
       "1    Patrick van Aanholt\\Patrick-van-Aanholt    NED    DF   Crystal Palace   \n",
       "2                Tammy Abraham\\Tammy-Abraham    ENG    FW          Chelsea   \n",
       "3                        Che Adams\\Che-Adams    SCO    FW      Southampton   \n",
       "4          Tosin Adarabioyo\\Tosin-Adarabioyo    ENG    DF           Fulham   \n",
       "5                              Adrián\\Adrian    ESP    GK        Liverpool   \n",
       "..                                       ...    ...   ...              ...   \n",
       "528                  Andi Zeqiri\\Andi-Zeqiri    SUI  FWDF         Brighton   \n",
       "529  Oleksandr Zinchenko\\Oleksandr-Zinchenko    UKR    DF  Manchester City   \n",
       "530                Hakim Ziyech\\Hakim-Ziyech    MAR  FWMF          Chelsea   \n",
       "531                    Kurt Zouma\\Kurt-Zouma    FRA    DF          Chelsea   \n",
       "532          Martin Ødegaard\\Martin-Odegaard    NOR    MF          Arsenal   \n",
       "\n",
       "    Age  Born  MP  Starts   Min   90s  Gls  Ast  G-PK  PK  PKatt  CrdY  CrdR  \n",
       "1    29  1990  22      20  1777  19.7    0    1     0   0      0     2     0  \n",
       "2    22  1997  22      12  1040  11.6    6    1     6   0      0     0     0  \n",
       "3    24  1996  36      30  2667  29.6    9    5     9   0      0     1     0  \n",
       "4    22  1997  33      33  2953  32.8    0    0     0   0      0     1     0  \n",
       "5    33  1987   3       3   270   3.0    0    0     0   0      0     0     0  \n",
       "..   ..   ...  ..     ...   ...   ...  ...  ...   ...  ..    ...   ...   ...  \n",
       "528  21  1999   9       0   171   1.9    0    0     0   0      0     0     0  \n",
       "529  23  1996  20      15  1478  16.4    0    0     0   0      0     0     0  \n",
       "530  27  1993  23      15  1172  13.0    2    3     2   0      0     3     0  \n",
       "531  25  1994  24      22  2029  22.5    5    0     5   0      0     3     0  \n",
       "532  21  1998  14       9   866   9.6    1    2     1   0      0     0     0  \n",
       "\n",
       "[532 rows x 17 columns]"
      ]
     },
     "execution_count": 24,
     "metadata": {},
     "output_type": "execute_result"
    }
   ],
   "source": [
    "df"
   ]
  },
  {
   "cell_type": "code",
   "execution_count": 26,
   "id": "8f69fc91",
   "metadata": {},
   "outputs": [
    {
     "name": "stdout",
     "output_type": "stream",
     "text": [
      "Defaulting to user installation because normal site-packages is not writeable\n",
      "Collecting seaborn\n",
      "  Downloading seaborn-0.11.1-py3-none-any.whl (285 kB)\n",
      "\u001b[K     |████████████████████████████████| 285 kB 1.3 MB/s eta 0:00:01\n",
      "\u001b[?25hRequirement already satisfied: numpy>=1.15 in /usr/lib/python3/dist-packages (from seaborn) (1.17.4)\n",
      "Collecting scipy>=1.0\n",
      "  Downloading scipy-1.7.1-cp38-cp38-manylinux_2_5_x86_64.manylinux1_x86_64.whl (28.4 MB)\n",
      "\u001b[K     |████████████████████████████████| 28.4 MB 52 kB/s s eta 0:00:01     |█████████████▉                  | 12.3 MB 13.4 MB/s eta 0:00:02\n",
      "\u001b[?25hRequirement already satisfied: pandas>=0.23 in /home/adi/.local/lib/python3.8/site-packages (from seaborn) (1.3.0)\n",
      "Requirement already satisfied: matplotlib>=2.2 in /home/adi/.local/lib/python3.8/site-packages (from seaborn) (3.4.2)\n",
      "Requirement already satisfied: pyparsing>=2.2.1 in /home/adi/.local/lib/python3.8/site-packages (from matplotlib>=2.2->seaborn) (2.4.7)\n",
      "Requirement already satisfied: cycler>=0.10 in /home/adi/.local/lib/python3.8/site-packages (from matplotlib>=2.2->seaborn) (0.10.0)\n",
      "Requirement already satisfied: python-dateutil>=2.7 in /usr/lib/python3/dist-packages (from matplotlib>=2.2->seaborn) (2.7.3)\n",
      "Requirement already satisfied: pillow>=6.2.0 in /usr/lib/python3/dist-packages (from matplotlib>=2.2->seaborn) (7.0.0)\n",
      "Requirement already satisfied: kiwisolver>=1.0.1 in /home/adi/.local/lib/python3.8/site-packages (from matplotlib>=2.2->seaborn) (1.3.1)\n",
      "Requirement already satisfied: six in /usr/lib/python3/dist-packages (from cycler>=0.10->matplotlib>=2.2->seaborn) (1.14.0)\n",
      "Requirement already satisfied: pytz>=2017.3 in /usr/lib/python3/dist-packages (from pandas>=0.23->seaborn) (2019.3)\n",
      "Installing collected packages: scipy, seaborn\n",
      "Successfully installed scipy-1.7.1 seaborn-0.11.1\n"
     ]
    }
   ],
   "source": [
    "!pip install seaborn"
   ]
  },
  {
   "cell_type": "code",
   "execution_count": 86,
   "id": "304b341c",
   "metadata": {},
   "outputs": [],
   "source": [
    "import matplotlib.pyplot as plt\n",
    "import seaborn as sns"
   ]
  },
  {
   "cell_type": "code",
   "execution_count": 30,
   "id": "e1539a98",
   "metadata": {},
   "outputs": [
    {
     "data": {
      "text/html": [
       "<div>\n",
       "<style scoped>\n",
       "    .dataframe tbody tr th:only-of-type {\n",
       "        vertical-align: middle;\n",
       "    }\n",
       "\n",
       "    .dataframe tbody tr th {\n",
       "        vertical-align: top;\n",
       "    }\n",
       "\n",
       "    .dataframe thead th {\n",
       "        text-align: right;\n",
       "    }\n",
       "</style>\n",
       "<table border=\"1\" class=\"dataframe\">\n",
       "  <thead>\n",
       "    <tr style=\"text-align: right;\">\n",
       "      <th></th>\n",
       "      <th>Player</th>\n",
       "      <th>Nation</th>\n",
       "      <th>Pos</th>\n",
       "      <th>Squad</th>\n",
       "      <th>Age</th>\n",
       "      <th>Born</th>\n",
       "      <th>MP</th>\n",
       "      <th>Starts</th>\n",
       "      <th>Min</th>\n",
       "      <th>90s</th>\n",
       "      <th>Gls</th>\n",
       "      <th>Ast</th>\n",
       "      <th>G-PK</th>\n",
       "      <th>PK</th>\n",
       "      <th>PKatt</th>\n",
       "      <th>CrdY</th>\n",
       "      <th>CrdR</th>\n",
       "    </tr>\n",
       "  </thead>\n",
       "  <tbody>\n",
       "    <tr>\n",
       "      <th>1</th>\n",
       "      <td>Patrick van Aanholt\\Patrick-van-Aanholt</td>\n",
       "      <td>NED</td>\n",
       "      <td>DF</td>\n",
       "      <td>Crystal Palace</td>\n",
       "      <td>29</td>\n",
       "      <td>1990</td>\n",
       "      <td>22</td>\n",
       "      <td>20</td>\n",
       "      <td>1777</td>\n",
       "      <td>19.7</td>\n",
       "      <td>0</td>\n",
       "      <td>1</td>\n",
       "      <td>0</td>\n",
       "      <td>0</td>\n",
       "      <td>0</td>\n",
       "      <td>2</td>\n",
       "      <td>0</td>\n",
       "    </tr>\n",
       "    <tr>\n",
       "      <th>2</th>\n",
       "      <td>Tammy Abraham\\Tammy-Abraham</td>\n",
       "      <td>ENG</td>\n",
       "      <td>FW</td>\n",
       "      <td>Chelsea</td>\n",
       "      <td>22</td>\n",
       "      <td>1997</td>\n",
       "      <td>22</td>\n",
       "      <td>12</td>\n",
       "      <td>1040</td>\n",
       "      <td>11.6</td>\n",
       "      <td>6</td>\n",
       "      <td>1</td>\n",
       "      <td>6</td>\n",
       "      <td>0</td>\n",
       "      <td>0</td>\n",
       "      <td>0</td>\n",
       "      <td>0</td>\n",
       "    </tr>\n",
       "    <tr>\n",
       "      <th>3</th>\n",
       "      <td>Che Adams\\Che-Adams</td>\n",
       "      <td>SCO</td>\n",
       "      <td>FW</td>\n",
       "      <td>Southampton</td>\n",
       "      <td>24</td>\n",
       "      <td>1996</td>\n",
       "      <td>36</td>\n",
       "      <td>30</td>\n",
       "      <td>2667</td>\n",
       "      <td>29.6</td>\n",
       "      <td>9</td>\n",
       "      <td>5</td>\n",
       "      <td>9</td>\n",
       "      <td>0</td>\n",
       "      <td>0</td>\n",
       "      <td>1</td>\n",
       "      <td>0</td>\n",
       "    </tr>\n",
       "    <tr>\n",
       "      <th>4</th>\n",
       "      <td>Tosin Adarabioyo\\Tosin-Adarabioyo</td>\n",
       "      <td>ENG</td>\n",
       "      <td>DF</td>\n",
       "      <td>Fulham</td>\n",
       "      <td>22</td>\n",
       "      <td>1997</td>\n",
       "      <td>33</td>\n",
       "      <td>33</td>\n",
       "      <td>2953</td>\n",
       "      <td>32.8</td>\n",
       "      <td>0</td>\n",
       "      <td>0</td>\n",
       "      <td>0</td>\n",
       "      <td>0</td>\n",
       "      <td>0</td>\n",
       "      <td>1</td>\n",
       "      <td>0</td>\n",
       "    </tr>\n",
       "    <tr>\n",
       "      <th>5</th>\n",
       "      <td>Adrián\\Adrian</td>\n",
       "      <td>ESP</td>\n",
       "      <td>GK</td>\n",
       "      <td>Liverpool</td>\n",
       "      <td>33</td>\n",
       "      <td>1987</td>\n",
       "      <td>3</td>\n",
       "      <td>3</td>\n",
       "      <td>270</td>\n",
       "      <td>3.0</td>\n",
       "      <td>0</td>\n",
       "      <td>0</td>\n",
       "      <td>0</td>\n",
       "      <td>0</td>\n",
       "      <td>0</td>\n",
       "      <td>0</td>\n",
       "      <td>0</td>\n",
       "    </tr>\n",
       "    <tr>\n",
       "      <th>...</th>\n",
       "      <td>...</td>\n",
       "      <td>...</td>\n",
       "      <td>...</td>\n",
       "      <td>...</td>\n",
       "      <td>...</td>\n",
       "      <td>...</td>\n",
       "      <td>...</td>\n",
       "      <td>...</td>\n",
       "      <td>...</td>\n",
       "      <td>...</td>\n",
       "      <td>...</td>\n",
       "      <td>...</td>\n",
       "      <td>...</td>\n",
       "      <td>...</td>\n",
       "      <td>...</td>\n",
       "      <td>...</td>\n",
       "      <td>...</td>\n",
       "    </tr>\n",
       "    <tr>\n",
       "      <th>528</th>\n",
       "      <td>Andi Zeqiri\\Andi-Zeqiri</td>\n",
       "      <td>SUI</td>\n",
       "      <td>FWDF</td>\n",
       "      <td>Brighton</td>\n",
       "      <td>21</td>\n",
       "      <td>1999</td>\n",
       "      <td>9</td>\n",
       "      <td>0</td>\n",
       "      <td>171</td>\n",
       "      <td>1.9</td>\n",
       "      <td>0</td>\n",
       "      <td>0</td>\n",
       "      <td>0</td>\n",
       "      <td>0</td>\n",
       "      <td>0</td>\n",
       "      <td>0</td>\n",
       "      <td>0</td>\n",
       "    </tr>\n",
       "    <tr>\n",
       "      <th>529</th>\n",
       "      <td>Oleksandr Zinchenko\\Oleksandr-Zinchenko</td>\n",
       "      <td>UKR</td>\n",
       "      <td>DF</td>\n",
       "      <td>Manchester City</td>\n",
       "      <td>23</td>\n",
       "      <td>1996</td>\n",
       "      <td>20</td>\n",
       "      <td>15</td>\n",
       "      <td>1478</td>\n",
       "      <td>16.4</td>\n",
       "      <td>0</td>\n",
       "      <td>0</td>\n",
       "      <td>0</td>\n",
       "      <td>0</td>\n",
       "      <td>0</td>\n",
       "      <td>0</td>\n",
       "      <td>0</td>\n",
       "    </tr>\n",
       "    <tr>\n",
       "      <th>530</th>\n",
       "      <td>Hakim Ziyech\\Hakim-Ziyech</td>\n",
       "      <td>MAR</td>\n",
       "      <td>FWMF</td>\n",
       "      <td>Chelsea</td>\n",
       "      <td>27</td>\n",
       "      <td>1993</td>\n",
       "      <td>23</td>\n",
       "      <td>15</td>\n",
       "      <td>1172</td>\n",
       "      <td>13.0</td>\n",
       "      <td>2</td>\n",
       "      <td>3</td>\n",
       "      <td>2</td>\n",
       "      <td>0</td>\n",
       "      <td>0</td>\n",
       "      <td>3</td>\n",
       "      <td>0</td>\n",
       "    </tr>\n",
       "    <tr>\n",
       "      <th>531</th>\n",
       "      <td>Kurt Zouma\\Kurt-Zouma</td>\n",
       "      <td>FRA</td>\n",
       "      <td>DF</td>\n",
       "      <td>Chelsea</td>\n",
       "      <td>25</td>\n",
       "      <td>1994</td>\n",
       "      <td>24</td>\n",
       "      <td>22</td>\n",
       "      <td>2029</td>\n",
       "      <td>22.5</td>\n",
       "      <td>5</td>\n",
       "      <td>0</td>\n",
       "      <td>5</td>\n",
       "      <td>0</td>\n",
       "      <td>0</td>\n",
       "      <td>3</td>\n",
       "      <td>0</td>\n",
       "    </tr>\n",
       "    <tr>\n",
       "      <th>532</th>\n",
       "      <td>Martin Ødegaard\\Martin-Odegaard</td>\n",
       "      <td>NOR</td>\n",
       "      <td>MF</td>\n",
       "      <td>Arsenal</td>\n",
       "      <td>21</td>\n",
       "      <td>1998</td>\n",
       "      <td>14</td>\n",
       "      <td>9</td>\n",
       "      <td>866</td>\n",
       "      <td>9.6</td>\n",
       "      <td>1</td>\n",
       "      <td>2</td>\n",
       "      <td>1</td>\n",
       "      <td>0</td>\n",
       "      <td>0</td>\n",
       "      <td>0</td>\n",
       "      <td>0</td>\n",
       "    </tr>\n",
       "  </tbody>\n",
       "</table>\n",
       "<p>532 rows × 17 columns</p>\n",
       "</div>"
      ],
      "text/plain": [
       "                                      Player Nation   Pos            Squad  \\\n",
       "1    Patrick van Aanholt\\Patrick-van-Aanholt    NED    DF   Crystal Palace   \n",
       "2                Tammy Abraham\\Tammy-Abraham    ENG    FW          Chelsea   \n",
       "3                        Che Adams\\Che-Adams    SCO    FW      Southampton   \n",
       "4          Tosin Adarabioyo\\Tosin-Adarabioyo    ENG    DF           Fulham   \n",
       "5                              Adrián\\Adrian    ESP    GK        Liverpool   \n",
       "..                                       ...    ...   ...              ...   \n",
       "528                  Andi Zeqiri\\Andi-Zeqiri    SUI  FWDF         Brighton   \n",
       "529  Oleksandr Zinchenko\\Oleksandr-Zinchenko    UKR    DF  Manchester City   \n",
       "530                Hakim Ziyech\\Hakim-Ziyech    MAR  FWMF          Chelsea   \n",
       "531                    Kurt Zouma\\Kurt-Zouma    FRA    DF          Chelsea   \n",
       "532          Martin Ødegaard\\Martin-Odegaard    NOR    MF          Arsenal   \n",
       "\n",
       "    Age  Born  MP  Starts   Min   90s  Gls  Ast  G-PK  PK  PKatt  CrdY  CrdR  \n",
       "1    29  1990  22      20  1777  19.7    0    1     0   0      0     2     0  \n",
       "2    22  1997  22      12  1040  11.6    6    1     6   0      0     0     0  \n",
       "3    24  1996  36      30  2667  29.6    9    5     9   0      0     1     0  \n",
       "4    22  1997  33      33  2953  32.8    0    0     0   0      0     1     0  \n",
       "5    33  1987   3       3   270   3.0    0    0     0   0      0     0     0  \n",
       "..   ..   ...  ..     ...   ...   ...  ...  ...   ...  ..    ...   ...   ...  \n",
       "528  21  1999   9       0   171   1.9    0    0     0   0      0     0     0  \n",
       "529  23  1996  20      15  1478  16.4    0    0     0   0      0     0     0  \n",
       "530  27  1993  23      15  1172  13.0    2    3     2   0      0     3     0  \n",
       "531  25  1994  24      22  2029  22.5    5    0     5   0      0     3     0  \n",
       "532  21  1998  14       9   866   9.6    1    2     1   0      0     0     0  \n",
       "\n",
       "[532 rows x 17 columns]"
      ]
     },
     "execution_count": 30,
     "metadata": {},
     "output_type": "execute_result"
    }
   ],
   "source": [
    "df"
   ]
  },
  {
   "cell_type": "code",
   "execution_count": 35,
   "id": "d77bb1d3",
   "metadata": {},
   "outputs": [
    {
     "data": {
      "text/plain": [
       "Nation\n",
       " ENG    192\n",
       " NIR      5\n",
       " SCO     20\n",
       " WAL     12\n",
       "ALG       3\n",
       "Name: Player, dtype: int64"
      ]
     },
     "execution_count": 35,
     "metadata": {},
     "output_type": "execute_result"
    }
   ],
   "source": [
    "#Top Nationalites in the Premier League\n",
    "df.groupby('Nation').count()['Player'].head()"
   ]
  },
  {
   "cell_type": "code",
   "execution_count": 63,
   "id": "2b3347a7",
   "metadata": {},
   "outputs": [
    {
     "data": {
      "text/html": [
       "<div>\n",
       "<style scoped>\n",
       "    .dataframe tbody tr th:only-of-type {\n",
       "        vertical-align: middle;\n",
       "    }\n",
       "\n",
       "    .dataframe tbody tr th {\n",
       "        vertical-align: top;\n",
       "    }\n",
       "\n",
       "    .dataframe thead th {\n",
       "        text-align: right;\n",
       "    }\n",
       "</style>\n",
       "<table border=\"1\" class=\"dataframe\">\n",
       "  <thead>\n",
       "    <tr style=\"text-align: right;\">\n",
       "      <th></th>\n",
       "      <th>count</th>\n",
       "      <th>mean</th>\n",
       "      <th>std</th>\n",
       "      <th>min</th>\n",
       "      <th>25%</th>\n",
       "      <th>50%</th>\n",
       "      <th>75%</th>\n",
       "      <th>max</th>\n",
       "    </tr>\n",
       "    <tr>\n",
       "      <th>Pos</th>\n",
       "      <th></th>\n",
       "      <th></th>\n",
       "      <th></th>\n",
       "      <th></th>\n",
       "      <th></th>\n",
       "      <th></th>\n",
       "      <th></th>\n",
       "      <th></th>\n",
       "    </tr>\n",
       "  </thead>\n",
       "  <tbody>\n",
       "    <tr>\n",
       "      <th>DF</th>\n",
       "      <td>178.0</td>\n",
       "      <td>0.724719</td>\n",
       "      <td>0.995786</td>\n",
       "      <td>0.0</td>\n",
       "      <td>0.0</td>\n",
       "      <td>0.0</td>\n",
       "      <td>1.00</td>\n",
       "      <td>5.0</td>\n",
       "    </tr>\n",
       "    <tr>\n",
       "      <th>DFFW</th>\n",
       "      <td>6.0</td>\n",
       "      <td>0.500000</td>\n",
       "      <td>0.547723</td>\n",
       "      <td>0.0</td>\n",
       "      <td>0.0</td>\n",
       "      <td>0.5</td>\n",
       "      <td>1.00</td>\n",
       "      <td>1.0</td>\n",
       "    </tr>\n",
       "    <tr>\n",
       "      <th>DFMF</th>\n",
       "      <td>15.0</td>\n",
       "      <td>0.733333</td>\n",
       "      <td>2.086236</td>\n",
       "      <td>0.0</td>\n",
       "      <td>0.0</td>\n",
       "      <td>0.0</td>\n",
       "      <td>0.00</td>\n",
       "      <td>8.0</td>\n",
       "    </tr>\n",
       "    <tr>\n",
       "      <th>FW</th>\n",
       "      <td>81.0</td>\n",
       "      <td>5.456790</td>\n",
       "      <td>5.709749</td>\n",
       "      <td>0.0</td>\n",
       "      <td>0.0</td>\n",
       "      <td>3.0</td>\n",
       "      <td>10.00</td>\n",
       "      <td>23.0</td>\n",
       "    </tr>\n",
       "    <tr>\n",
       "      <th>FWDF</th>\n",
       "      <td>6.0</td>\n",
       "      <td>1.333333</td>\n",
       "      <td>1.966384</td>\n",
       "      <td>0.0</td>\n",
       "      <td>0.0</td>\n",
       "      <td>0.5</td>\n",
       "      <td>1.75</td>\n",
       "      <td>5.0</td>\n",
       "    </tr>\n",
       "    <tr>\n",
       "      <th>FWMF</th>\n",
       "      <td>47.0</td>\n",
       "      <td>2.638298</td>\n",
       "      <td>2.816300</td>\n",
       "      <td>0.0</td>\n",
       "      <td>0.0</td>\n",
       "      <td>1.0</td>\n",
       "      <td>4.50</td>\n",
       "      <td>9.0</td>\n",
       "    </tr>\n",
       "    <tr>\n",
       "      <th>GK</th>\n",
       "      <td>42.0</td>\n",
       "      <td>0.023810</td>\n",
       "      <td>0.154303</td>\n",
       "      <td>0.0</td>\n",
       "      <td>0.0</td>\n",
       "      <td>0.0</td>\n",
       "      <td>0.00</td>\n",
       "      <td>1.0</td>\n",
       "    </tr>\n",
       "    <tr>\n",
       "      <th>MF</th>\n",
       "      <td>106.0</td>\n",
       "      <td>1.594340</td>\n",
       "      <td>2.920464</td>\n",
       "      <td>0.0</td>\n",
       "      <td>0.0</td>\n",
       "      <td>0.0</td>\n",
       "      <td>2.00</td>\n",
       "      <td>18.0</td>\n",
       "    </tr>\n",
       "    <tr>\n",
       "      <th>MFDF</th>\n",
       "      <td>13.0</td>\n",
       "      <td>1.076923</td>\n",
       "      <td>1.441153</td>\n",
       "      <td>0.0</td>\n",
       "      <td>0.0</td>\n",
       "      <td>1.0</td>\n",
       "      <td>1.00</td>\n",
       "      <td>5.0</td>\n",
       "    </tr>\n",
       "    <tr>\n",
       "      <th>MFFW</th>\n",
       "      <td>38.0</td>\n",
       "      <td>2.236842</td>\n",
       "      <td>2.675557</td>\n",
       "      <td>0.0</td>\n",
       "      <td>1.0</td>\n",
       "      <td>1.0</td>\n",
       "      <td>3.00</td>\n",
       "      <td>11.0</td>\n",
       "    </tr>\n",
       "  </tbody>\n",
       "</table>\n",
       "</div>"
      ],
      "text/plain": [
       "      count      mean       std  min  25%  50%    75%   max\n",
       "Pos                                                        \n",
       "DF    178.0  0.724719  0.995786  0.0  0.0  0.0   1.00   5.0\n",
       "DFFW    6.0  0.500000  0.547723  0.0  0.0  0.5   1.00   1.0\n",
       "DFMF   15.0  0.733333  2.086236  0.0  0.0  0.0   0.00   8.0\n",
       "FW     81.0  5.456790  5.709749  0.0  0.0  3.0  10.00  23.0\n",
       "FWDF    6.0  1.333333  1.966384  0.0  0.0  0.5   1.75   5.0\n",
       "FWMF   47.0  2.638298  2.816300  0.0  0.0  1.0   4.50   9.0\n",
       "GK     42.0  0.023810  0.154303  0.0  0.0  0.0   0.00   1.0\n",
       "MF    106.0  1.594340  2.920464  0.0  0.0  0.0   2.00  18.0\n",
       "MFDF   13.0  1.076923  1.441153  0.0  0.0  1.0   1.00   5.0\n",
       "MFFW   38.0  2.236842  2.675557  0.0  1.0  1.0   3.00  11.0"
      ]
     },
     "execution_count": 63,
     "metadata": {},
     "output_type": "execute_result"
    }
   ],
   "source": [
    "df.groupby('Pos').Gls.describe()"
   ]
  },
  {
   "cell_type": "code",
   "execution_count": null,
   "id": "a8baa45c",
   "metadata": {},
   "outputs": [],
   "source": []
  },
  {
   "cell_type": "markdown",
   "id": "fb94ab45",
   "metadata": {},
   "source": [
    "# VISUALIZATION "
   ]
  },
  {
   "cell_type": "code",
   "execution_count": 72,
   "id": "b92fffe4",
   "metadata": {},
   "outputs": [],
   "source": [
    "GLS=df[['Pos','Gls']]\n",
    "positions=['MF','FW','MFFW']\n",
    "GLS=GLS[GLS['Pos'].isin(positions)]"
   ]
  },
  {
   "cell_type": "code",
   "execution_count": 77,
   "id": "1710079a",
   "metadata": {},
   "outputs": [
    {
     "data": {
      "text/plain": [
       "array([[<AxesSubplot:title={'center':'FW'}>,\n",
       "        <AxesSubplot:title={'center':'MF'}>],\n",
       "       [<AxesSubplot:title={'center':'MFFW'}>, <AxesSubplot:>]],\n",
       "      dtype=object)"
      ]
     },
     "execution_count": 77,
     "metadata": {},
     "output_type": "execute_result"
    },
    {
     "data": {
      "image/png": "[encoded data removed]",
      "text/plain": [
       "<Figure size 432x288 with 4 Axes>"
      ]
     },
     "metadata": {
      "needs_background": "light"
     },
     "output_type": "display_data"
    }
   ],
   "source": [
    "GLS.hist(by=GLS['Pos'])"
   ]
  },
  {
   "cell_type": "code",
   "execution_count": null,
   "id": "03829b1b",
   "metadata": {},
   "outputs": [],
   "source": []
  },
  {
   "cell_type": "code",
   "execution_count": 81,
   "id": "c490195b",
   "metadata": {},
   "outputs": [],
   "source": [
    "MINS=df[['Squad','Min']]\n",
    "Teams=['Manchester City','Manchester United','Chelsea','Tottenham','Leicester','Liverpool']\n",
    "MINS=MINS[MINS['Squad'].isin(Teams)]"
   ]
  },
  {
   "cell_type": "code",
   "execution_count": 84,
   "id": "01d8dbb9",
   "metadata": {},
   "outputs": [
    {
     "data": {
      "text/plain": [
       "<AxesSubplot:title={'center':'Min'}, xlabel='Squad'>"
      ]
     },
     "execution_count": 84,
     "metadata": {},
     "output_type": "execute_result"
    },
    {
     "data": {
      "image/png": "[encoded data removed]",
      "text/plain": [
       "<Figure size 432x288 with 1 Axes>"
      ]
     },
     "metadata": {
      "needs_background": "light"
     },
     "output_type": "display_data"
    }
   ],
   "source": [
    "MINS.boxplot(column='Min',by='Squad')"
   ]
  },
  {
   "cell_type": "code",
   "execution_count": 208,
   "id": "5f7840c6",
   "metadata": {},
   "outputs": [
    {
     "data": {
      "image/png": "[encoded data removed]",
      "text/plain": [
       "<Figure size 432x288 with 1 Axes>"
      ]
     },
     "metadata": {
      "needs_background": "light"
     },
     "output_type": "display_data"
    }
   ],
   "source": [
    "sns.boxplot(x='Squad',y='Min',data=MINS)\n",
    "plt.title(\"Top 6 squad's player playing time\")\n",
    "plt.savefig('bplot.png')"
   ]
  },
  {
   "cell_type": "code",
   "execution_count": null,
   "id": "fb16de39",
   "metadata": {},
   "outputs": [],
   "source": []
  },
  {
   "cell_type": "code",
   "execution_count": 146,
   "id": "40ce8b46",
   "metadata": {},
   "outputs": [],
   "source": [
    "age=df[['Age','Min']]"
   ]
  },
  {
   "cell_type": "code",
   "execution_count": 147,
   "id": "2b5eaaef",
   "metadata": {},
   "outputs": [
    {
     "name": "stderr",
     "output_type": "stream",
     "text": [
      "/home/adi/.local/lib/python3.8/site-packages/pandas/util/_decorators.py:311: SettingWithCopyWarning: \n",
      "A value is trying to be set on a copy of a slice from a DataFrame\n",
      "\n",
      "See the caveats in the documentation: https://pandas.pydata.org/pandas-docs/stable/user_guide/indexing.html#returning-a-view-versus-a-copy\n",
      "  return func(*args, **kwargs)\n"
     ]
    },
    {
     "data": {
      "text/plain": [
       "0       0\n",
       "1      16\n",
       "2      16\n",
       "3      16\n",
       "4      16\n",
       "       ..\n",
       "527    35\n",
       "528    36\n",
       "529    36\n",
       "530    37\n",
       "531    38\n",
       "Name: Age, Length: 532, dtype: int64"
      ]
     },
     "execution_count": 147,
     "metadata": {},
     "output_type": "execute_result"
    }
   ],
   "source": [
    "age.sort_values(by='Age',inplace=True)\n",
    "\n",
    "age.reset_index(inplace=True)\n",
    "\n",
    "age.Age.astype('int64')\n"
   ]
  },
  {
   "cell_type": "code",
   "execution_count": 163,
   "id": "950fd097",
   "metadata": {},
   "outputs": [
    {
     "data": {
      "text/html": [
       "<div>\n",
       "<style scoped>\n",
       "    .dataframe tbody tr th:only-of-type {\n",
       "        vertical-align: middle;\n",
       "    }\n",
       "\n",
       "    .dataframe tbody tr th {\n",
       "        vertical-align: top;\n",
       "    }\n",
       "\n",
       "    .dataframe thead th {\n",
       "        text-align: right;\n",
       "    }\n",
       "</style>\n",
       "<table border=\"1\" class=\"dataframe\">\n",
       "  <thead>\n",
       "    <tr style=\"text-align: right;\">\n",
       "      <th></th>\n",
       "      <th>Age</th>\n",
       "      <th>Min</th>\n",
       "    </tr>\n",
       "  </thead>\n",
       "  <tbody>\n",
       "    <tr>\n",
       "      <th>0</th>\n",
       "      <td>0</td>\n",
       "      <td>1</td>\n",
       "    </tr>\n",
       "    <tr>\n",
       "      <th>1</th>\n",
       "      <td>16</td>\n",
       "      <td>11</td>\n",
       "    </tr>\n",
       "    <tr>\n",
       "      <th>2</th>\n",
       "      <td>16</td>\n",
       "      <td>11</td>\n",
       "    </tr>\n",
       "    <tr>\n",
       "      <th>3</th>\n",
       "      <td>16</td>\n",
       "      <td>1</td>\n",
       "    </tr>\n",
       "    <tr>\n",
       "      <th>4</th>\n",
       "      <td>16</td>\n",
       "      <td>20</td>\n",
       "    </tr>\n",
       "    <tr>\n",
       "      <th>...</th>\n",
       "      <td>...</td>\n",
       "      <td>...</td>\n",
       "    </tr>\n",
       "    <tr>\n",
       "      <th>527</th>\n",
       "      <td>35</td>\n",
       "      <td>1935</td>\n",
       "    </tr>\n",
       "    <tr>\n",
       "      <th>528</th>\n",
       "      <td>36</td>\n",
       "      <td>767</td>\n",
       "    </tr>\n",
       "    <tr>\n",
       "      <th>529</th>\n",
       "      <td>36</td>\n",
       "      <td>18</td>\n",
       "    </tr>\n",
       "    <tr>\n",
       "      <th>530</th>\n",
       "      <td>37</td>\n",
       "      <td>526</td>\n",
       "    </tr>\n",
       "    <tr>\n",
       "      <th>531</th>\n",
       "      <td>38</td>\n",
       "      <td>90</td>\n",
       "    </tr>\n",
       "  </tbody>\n",
       "</table>\n",
       "<p>532 rows × 2 columns</p>\n",
       "</div>"
      ],
      "text/plain": [
       "     Age   Min\n",
       "0      0     1\n",
       "1     16    11\n",
       "2     16    11\n",
       "3     16     1\n",
       "4     16    20\n",
       "..   ...   ...\n",
       "527   35  1935\n",
       "528   36   767\n",
       "529   36    18\n",
       "530   37   526\n",
       "531   38    90\n",
       "\n",
       "[532 rows x 2 columns]"
      ]
     },
     "execution_count": 163,
     "metadata": {},
     "output_type": "execute_result"
    }
   ],
   "source": [
    "age"
   ]
  },
  {
   "cell_type": "code",
   "execution_count": 149,
   "id": "90d65417",
   "metadata": {},
   "outputs": [
    {
     "name": "stderr",
     "output_type": "stream",
     "text": [
      "/home/adi/.local/lib/python3.8/site-packages/pandas/core/frame.py:4901: SettingWithCopyWarning: \n",
      "A value is trying to be set on a copy of a slice from a DataFrame\n",
      "\n",
      "See the caveats in the documentation: https://pandas.pydata.org/pandas-docs/stable/user_guide/indexing.html#returning-a-view-versus-a-copy\n",
      "  return super().drop(\n"
     ]
    }
   ],
   "source": [
    "age.drop(columns='index',inplace=True)"
   ]
  },
  {
   "cell_type": "code",
   "execution_count": 152,
   "id": "7365f0b5",
   "metadata": {
    "scrolled": true
   },
   "outputs": [
    {
     "name": "stderr",
     "output_type": "stream",
     "text": [
      "/home/adi/.local/lib/python3.8/site-packages/pandas/core/frame.py:3607: SettingWithCopyWarning: \n",
      "A value is trying to be set on a copy of a slice from a DataFrame.\n",
      "Try using .loc[row_indexer,col_indexer] = value instead\n",
      "\n",
      "See the caveats in the documentation: https://pandas.pydata.org/pandas-docs/stable/user_guide/indexing.html#returning-a-view-versus-a-copy\n",
      "  self._set_item(key, value)\n"
     ]
    }
   ],
   "source": [
    "age.Age=age.Age.astype('int64')"
   ]
  },
  {
   "cell_type": "code",
   "execution_count": 154,
   "id": "9ff979d5",
   "metadata": {},
   "outputs": [
    {
     "data": {
      "text/plain": [
       "Age    int64\n",
       "Min    int64\n",
       "dtype: object"
      ]
     },
     "execution_count": 154,
     "metadata": {},
     "output_type": "execute_result"
    }
   ],
   "source": [
    "age.dtypes"
   ]
  },
  {
   "cell_type": "code",
   "execution_count": 193,
   "id": "d9dc2707",
   "metadata": {},
   "outputs": [
    {
     "data": {
      "image/png": "[encoded data removed]",
      "text/plain": [
       "<Figure size 432x288 with 1 Axes>"
      ]
     },
     "metadata": {
      "needs_background": "light"
     },
     "output_type": "display_data"
    }
   ],
   "source": [
    "ax=sns.barplot(x='Age',y='Min',data=age)\n",
    "ax.set_title('Total mins played by players of different ages')\n",
    "plt.savefig('Age vs mins.png')"
   ]
  },
  {
   "cell_type": "code",
   "execution_count": 156,
   "id": "cdee4b2d",
   "metadata": {},
   "outputs": [],
   "source": [
    "import numpy as np"
   ]
  },
  {
   "cell_type": "code",
   "execution_count": 157,
   "id": "b656176e",
   "metadata": {},
   "outputs": [],
   "source": [
    "a=list(age.Age.astype(int).unique())"
   ]
  },
  {
   "cell_type": "code",
   "execution_count": null,
   "id": "7c376242",
   "metadata": {},
   "outputs": [],
   "source": []
  },
  {
   "cell_type": "code",
   "execution_count": 158,
   "id": "0690ffc1",
   "metadata": {},
   "outputs": [
    {
     "data": {
      "text/plain": [
       "(array([1, 0, 7, 8, 8]), array([ 0. ,  7.6, 15.2, 22.8, 30.4, 38. ]))"
      ]
     },
     "execution_count": 158,
     "metadata": {},
     "output_type": "execute_result"
    }
   ],
   "source": [
    "np.histogram(a,bins=5)"
   ]
  },
  {
   "cell_type": "code",
   "execution_count": 194,
   "id": "742cc431",
   "metadata": {},
   "outputs": [
    {
     "data": {
      "image/png": "[encoded data removed]",
      "text/plain": [
       "<Figure size 432x288 with 1 Axes>"
      ]
     },
     "metadata": {
      "needs_background": "light"
     },
     "output_type": "display_data"
    },
    {
     "data": {
      "text/plain": [
       "<Figure size 432x288 with 0 Axes>"
      ]
     },
     "metadata": {},
     "output_type": "display_data"
    }
   ],
   "source": [
    "out = pd.cut(df.Age.astype(int), bins=[16,20,25,30,35,40], include_lowest=True)\n",
    "ax = out.value_counts(sort=False).plot.bar(rot=0, color=\"r\", figsize=(6,4))\n",
    "plt.xlabel('Age')\n",
    "plt.ylabel('No of Players')\n",
    "plt.title('Age of players in the Premier League 20/21')\n",
    "ax.set_xticklabels(['16-20','20-25','25-30','30-35','35,40'])\n",
    "plt.show()\n",
    "plt.savefig('PL player age')"
   ]
  },
  {
   "cell_type": "code",
   "execution_count": 195,
   "id": "a8fc0ad5",
   "metadata": {},
   "outputs": [],
   "source": [
    "corr=df.corr()"
   ]
  },
  {
   "cell_type": "raw",
   "id": "1be0b8ef",
   "metadata": {},
   "source": []
  },
  {
   "cell_type": "code",
   "execution_count": 196,
   "id": "0a3113fd",
   "metadata": {},
   "outputs": [
    {
     "data": {
      "text/plain": [
       "<AxesSubplot:>"
      ]
     },
     "execution_count": 196,
     "metadata": {},
     "output_type": "execute_result"
    },
    {
     "data": {
      "image/png": "[encoded data removed]",
      "text/plain": [
       "<Figure size 432x288 with 2 Axes>"
      ]
     },
     "metadata": {
      "needs_background": "light"
     },
     "output_type": "display_data"
    }
   ],
   "source": [
    "sns.heatmap(corr)"
   ]
  },
  {
   "cell_type": "code",
   "execution_count": 204,
   "id": "a17a10dd",
   "metadata": {},
   "outputs": [
    {
     "data": {
      "image/png": "[encoded data removed]",
      "text/plain": [
       "<Figure size 792x648 with 2 Axes>"
      ]
     },
     "metadata": {
      "needs_background": "light"
     },
     "output_type": "display_data"
    },
    {
     "data": {
      "text/plain": [
       "<Figure size 432x288 with 0 Axes>"
      ]
     },
     "metadata": {},
     "output_type": "display_data"
    }
   ],
   "source": [
    "mask = np.triu(np.ones_like(corr, dtype=bool))\n",
    "\n",
    "# Set up the matplotlib figure\n",
    "f, ax = plt.subplots(figsize=(11, 9))\n",
    "\n",
    "# Generate a custom diverging colormap\n",
    "\n",
    "# Draw the heatmap with the mask and correct aspect ratio\n",
    "sns.heatmap(corr, mask=mask, vmax=1, center=0,\n",
    "            square=True, linewidths=.5, cbar_kws={\"shrink\": .5})\n",
    "plt.show()\n",
    "plt.savefig(\"Heatmap.png\")"
   ]
  },
  {
   "cell_type": "code",
   "execution_count": 202,
   "id": "df17f1b3",
   "metadata": {},
   "outputs": [],
   "source": []
  },
  {
   "cell_type": "code",
   "execution_count": null,
   "id": "92b2fb46",
   "metadata": {},
   "outputs": [],
   "source": []
  }
 ],
 "metadata": {
  "kernelspec": {
   "display_name": "Python 3 (ipykernel)",
   "language": "python",
   "name": "python3"
  },
  "language_info": {
   "codemirror_mode": {
    "name": "ipython",
    "version": 3
   },
   "file_extension": ".py",
   "mimetype": "text/x-python",
   "name": "python",
   "nbconvert_exporter": "python",
   "pygments_lexer": "ipython3",
   "version": "3.8.10"
  }
 },
 "nbformat": 4,
 "nbformat_minor": 5
}
